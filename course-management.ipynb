{
 "cells": [
  {
   "cell_type": "markdown",
   "id": "85b779af",
   "metadata": {},
   "source": [
    "Breakdown app:\n",
    "- class student (untuk data object student)\n",
    "- class course (untuk data object course)\n",
    "- class process_data (untuk enroll student di course, show student with list of course, dan show course with list of student)"
   ]
  },
  {
   "cell_type": "code",
   "execution_count": null,
   "id": "faafcc70",
   "metadata": {},
   "outputs": [
    {
     "name": "stdout",
     "output_type": "stream",
     "text": [
      "============================================================\n",
      "                                                            \n",
      "                 Course Management System                   \n",
      "                                                            \n",
      "============================================================\n"
     ]
    }
   ],
   "source": [
    "print('============================================================')\n",
    "print('                                                            ')\n",
    "print('                 Course Management System                   ')\n",
    "print('                                                            ')\n",
    "print('============================================================')\n",
    "print('                                                            ')\n",
    "print('                                                            ')\n",
    "print('Menu:')\n",
    "print('1. Add student')\n",
    "print('2. Add course')\n",
    "print('3. Enroll student in course')\n",
    "print('4. Show student courses')\n",
    "print('5. Show course students')\n",
    "print('6. Exit')\n",
    "print( '                          ')\n"
   ]
  },
  {
   "cell_type": "code",
   "execution_count": null,
   "id": "de0f4cc9",
   "metadata": {},
   "outputs": [],
   "source": [
    "class student:\n",
    "    def __init__(self, student_id, name):\n",
    "        self.student_id = student_id\n",
    "        self.name = name\n",
    "        self.student_course = []\n",
    "\n",
    "class course:\n",
    "    def __init__(self, course_id, title):\n",
    "        self.course_id = course_id\n",
    "        self.title = title\n",
    "        self.course_student = []\n",
    "\n",
    "\n",
    "class process_data:\n",
    "    def __init__(self):\n",
    "        self.student_list = []\n",
    "        self.course_list = []\n",
    "\n",
    "    def add_student(self, student_id, name):\n",
    "        students = student(student_id, name)\n",
    "        self.student_list.append(students)\n",
    "    \n",
    "    def add_course(self, course_id, title):\n",
    "        courses = course(course_id, title)\n",
    "        self.course_list.append(courses)\n",
    "\n",
    "    def enroll(self, student_id, course_id):\n",
    "        for s in self.student_list:\n",
    "            for c in self.course_list:\n",
    "                if c.course_id == course_id and s.student_id == student_id:\n",
    "                    s.student_course.append(c.title)\n",
    "                    c.course_student.append(s.name)\n",
    "                    \n",
    "\n",
    "    def student_c_list(self, student_id):\n",
    "        for s in self.student_list:\n",
    "            if student_id == s.student_id:\n",
    "                print(f'Course attended by {s.name}')\n",
    "\n",
    "\n",
    "        for s in self.student_list:\n",
    "            for i in s.student_course:\n",
    "                if student_id == s.student_id:\n",
    "                    print(f'- {i}')\n",
    "    \n",
    "    def course_s_list(self, course_id):\n",
    "        for c in self.course_list:\n",
    "            if course_id == c.course_id:\n",
    "                print(f'Course attended by {c.title}')\n",
    "\n",
    "\n",
    "        for c in self.course_list:\n",
    "            for i in c.course_student:\n",
    "                if course_id == c.course_id:\n",
    "                    print(f'- {i}')\n",
    "        \n",
    "    def running_app():\n",
    "        print('Menu:')\n",
    "        print('1. Add student')\n",
    "        print('2. Add course')\n",
    "        print('3. Enroll student in course')\n",
    "        print('4. Show student courses')\n",
    "        print('5. Show course students')\n",
    "        print('6. Exit')\n",
    "        print( '                          ')\n",
    "        print('Choose and option: ')\n",
    "        \n",
    "\n",
    "\n",
    "\n",
    "\n"
   ]
  },
  {
   "cell_type": "code",
   "execution_count": 88,
   "id": "e14962b1",
   "metadata": {},
   "outputs": [],
   "source": [
    "data = process_data()\n",
    "data.add_student('1111', 'Bagus')\n",
    "data.add_student('1112', 'Diva Aura')\n",
    "data.add_course('3001', 'Quantum Physics')\n",
    "data.add_course('3002', 'Mechanics')\n"
   ]
  },
  {
   "cell_type": "code",
   "execution_count": 89,
   "id": "fa4f0a40",
   "metadata": {},
   "outputs": [],
   "source": [
    "data.enroll('1111', '3001')\n",
    "data.enroll('1111', '3002')\n",
    "data.enroll('1112', '3001')"
   ]
  },
  {
   "cell_type": "code",
   "execution_count": 90,
   "id": "fb7a6aef",
   "metadata": {},
   "outputs": [
    {
     "name": "stdout",
     "output_type": "stream",
     "text": [
      "Course attended by Diva Aura\n",
      "- Quantum Physics\n"
     ]
    }
   ],
   "source": [
    "data.student_c_list('1112')"
   ]
  },
  {
   "cell_type": "code",
   "execution_count": 91,
   "id": "87bd1f8b",
   "metadata": {},
   "outputs": [
    {
     "name": "stdout",
     "output_type": "stream",
     "text": [
      "Course attended by Quantum Physics\n",
      "- Bagus\n",
      "- Diva Aura\n"
     ]
    }
   ],
   "source": [
    "data.course_s_list('3001')"
   ]
  },
  {
   "cell_type": "code",
   "execution_count": 33,
   "id": "5bf2d9d1",
   "metadata": {},
   "outputs": [
    {
     "data": {
      "text/plain": [
       "'1237'"
      ]
     },
     "execution_count": 33,
     "metadata": {},
     "output_type": "execute_result"
    }
   ],
   "source": [
    "l = [1,2,3,7] \n",
    "\"\".join([str(x) for x in l])"
   ]
  },
  {
   "cell_type": "code",
   "execution_count": 2,
   "id": "97c3ba06",
   "metadata": {},
   "outputs": [
    {
     "data": {
      "text/plain": [
       "dict_values(['Ford', 'Mustang', 1964])"
      ]
     },
     "execution_count": 2,
     "metadata": {},
     "output_type": "execute_result"
    }
   ],
   "source": [
    "x"
   ]
  },
  {
   "cell_type": "code",
   "execution_count": null,
   "id": "69d5563c",
   "metadata": {},
   "outputs": [],
   "source": []
  }
 ],
 "metadata": {
  "kernelspec": {
   "display_name": "base",
   "language": "python",
   "name": "python3"
  },
  "language_info": {
   "codemirror_mode": {
    "name": "ipython",
    "version": 3
   },
   "file_extension": ".py",
   "mimetype": "text/x-python",
   "name": "python",
   "nbconvert_exporter": "python",
   "pygments_lexer": "ipython3",
   "version": "3.11.5"
  }
 },
 "nbformat": 4,
 "nbformat_minor": 5
}
