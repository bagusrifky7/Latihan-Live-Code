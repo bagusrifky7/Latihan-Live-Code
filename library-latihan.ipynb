{
 "cells": [
  {
   "cell_type": "code",
   "execution_count": null,
   "metadata": {},
   "outputs": [
    {
     "name": "stdout",
     "output_type": "stream",
     "text": [
      "                                                                 \n",
      "Welcome to Zitae Library App!\n",
      "                                                                 \n",
      "Menu:\n",
      "1. Adding book to library\n",
      "2. Remove book from library\n",
      "3. Display books catalogue\n",
      "4. Search book by author\n",
      "5. Exit\n",
      "                                                                  \n",
      "1984 by George Orwell with ISBN 1111 successfully added\n",
      "                                                                 \n",
      "Welcome to Zitae Library App!\n",
      "                                                                 \n",
      "Menu:\n",
      "1. Adding book to library\n",
      "2. Remove book from library\n",
      "3. Display books catalogue\n",
      "4. Search book by author\n",
      "5. Exit\n",
      "                                                                  \n",
      "Animal Farm by George Orwell with ISBN 1112 successfully added\n",
      "                                                                 \n",
      "Welcome to Zitae Library App!\n",
      "                                                                 \n",
      "Menu:\n",
      "1. Adding book to library\n",
      "2. Remove book from library\n",
      "3. Display books catalogue\n",
      "4. Search book by author\n",
      "5. Exit\n",
      "                                                                  \n",
      "1. ISBN: 1111, 1984 by George Orwell\n",
      "2. ISBN: 1112, Animal Farm by George Orwell\n",
      "                                                                 \n",
      "Welcome to Zitae Library App!\n",
      "                                                                 \n",
      "Menu:\n",
      "1. Adding book to library\n",
      "2. Remove book from library\n",
      "3. Display books catalogue\n",
      "4. Search book by author\n",
      "5. Exit\n",
      "                                                                  \n"
     ]
    },
    {
     "ename": "TypeError",
     "evalue": "libraries.search_by_author() missing 1 required positional argument: 'author'",
     "output_type": "error",
     "traceback": [
      "\u001b[1;31m---------------------------------------------------------------------------\u001b[0m",
      "\u001b[1;31mTypeError\u001b[0m                                 Traceback (most recent call last)",
      "Cell \u001b[1;32mIn[53], line 71\u001b[0m\n\u001b[0;32m     69\u001b[0m \u001b[38;5;28;01mif\u001b[39;00m \u001b[38;5;18m__name__\u001b[39m \u001b[38;5;241m==\u001b[39m \u001b[38;5;124m'\u001b[39m\u001b[38;5;124m__main__\u001b[39m\u001b[38;5;124m'\u001b[39m:\n\u001b[0;32m     70\u001b[0m     app_perpus \u001b[38;5;241m=\u001b[39m libraries()\n\u001b[1;32m---> 71\u001b[0m     app_perpus\u001b[38;5;241m.\u001b[39mrunning_app()\n",
      "Cell \u001b[1;32mIn[53], line 62\u001b[0m, in \u001b[0;36mlibraries.running_app\u001b[1;34m(self)\u001b[0m\n\u001b[0;32m     60\u001b[0m \u001b[38;5;28;01melif\u001b[39;00m pilihan \u001b[38;5;241m==\u001b[39m \u001b[38;5;124m'\u001b[39m\u001b[38;5;124m4\u001b[39m\u001b[38;5;124m'\u001b[39m:\n\u001b[0;32m     61\u001b[0m     author \u001b[38;5;241m=\u001b[39m \u001b[38;5;28minput\u001b[39m(\u001b[38;5;124m'\u001b[39m\u001b[38;5;124mAuthor of the booko: \u001b[39m\u001b[38;5;124m'\u001b[39m)\n\u001b[1;32m---> 62\u001b[0m     \u001b[38;5;28mself\u001b[39m\u001b[38;5;241m.\u001b[39msearch_by_author()\n\u001b[0;32m     64\u001b[0m \u001b[38;5;28;01melif\u001b[39;00m pilihan \u001b[38;5;241m==\u001b[39m \u001b[38;5;124m'\u001b[39m\u001b[38;5;124m5\u001b[39m\u001b[38;5;124m'\u001b[39m:\n\u001b[0;32m     65\u001b[0m     \u001b[38;5;28mprint\u001b[39m(\u001b[38;5;124m'\u001b[39m\u001b[38;5;124mThank you and have a nice day\u001b[39m\u001b[38;5;124m'\u001b[39m)\n",
      "\u001b[1;31mTypeError\u001b[0m: libraries.search_by_author() missing 1 required positional argument: 'author'"
     ]
    }
   ],
   "source": [
    "class book:\n",
    "    def __init__(self, isbn, title, author):\n",
    "        self.isbn = isbn\n",
    "        self.title = title\n",
    "        self.author = author\n",
    "    \n",
    "    def __str__(self):\n",
    "        return f'ISBN: {self.isbn}, {self.title} by {self.author}'\n",
    "    \n",
    "class libraries:\n",
    "    def __init__(self):\n",
    "        self.book_list = []\n",
    "    \n",
    "    def adding_book(self, isbn, title, author):\n",
    "        buku = book(isbn, title, author)\n",
    "        self.book_list.append(buku)\n",
    "\n",
    "    def remove_book(self, isbn):\n",
    "        for bks in self.book_list:\n",
    "            if bks.isbn == isbn:\n",
    "                print(f'Book {bks.title} with ISBN: {isbn} successfully been removed')\n",
    "                self.book_list.remove(bks)\n",
    "    \n",
    "    def search_by_author(self, author):\n",
    "        for bks in self.book_list:\n",
    "            if bks.author == author:\n",
    "                print(f'ISBN: {bks.isbn}, Title: {bks.title}')\n",
    "    \n",
    "    def display_book(self):\n",
    "        for index, bks in enumerate(self.book_list):\n",
    "            print(f'{index + 1}. {bks}')\n",
    "    \n",
    "    def running_app(self):\n",
    "        while True:\n",
    "            print('                                                                 ')\n",
    "            print('Welcome to Zitae Library App!')\n",
    "            print('                                                                 ')\n",
    "            print('Menu:')\n",
    "            print('1. Adding book to library')\n",
    "            print('2. Remove book from library')\n",
    "            print('3. Display books catalogue')\n",
    "            print('4. Search book by author')\n",
    "            print('5. Exit')\n",
    "            print('                                                                  ')\n",
    "            pilihan = input('Pilihan: ')\n",
    "            if pilihan == '1':\n",
    "                isbn = int(input('Input ISBN numbers: '))\n",
    "                title = input('Input book title: ')\n",
    "                author = input('Input author of the book: ')\n",
    "                self.adding_book(isbn, title, author)\n",
    "                print(f'{title} by {author} with ISBN {isbn} successfully added')\n",
    "\n",
    "            elif pilihan == '2':\n",
    "                isbn = int(input('Input book ISBN: '))\n",
    "                self.remove_book(isbn)\n",
    "            \n",
    "            elif pilihan == '3':\n",
    "                self.display_book()\n",
    "            \n",
    "            elif pilihan == '4':\n",
    "                author = input('Author of the booko: ')\n",
    "                self.search_by_author(author)\n",
    "            \n",
    "            elif pilihan == '5':\n",
    "                print('Thank you and have a nice day')\n",
    "                break\n",
    "\n",
    "#Jalakan aplikasi\n",
    "if __name__ == '__main__':\n",
    "    app_perpus = libraries()\n",
    "    app_perpus.running_app()\n",
    "    \n",
    "\n",
    "            \n",
    "            "
   ]
  },
  {
   "cell_type": "code",
   "execution_count": null,
   "metadata": {},
   "outputs": [],
   "source": []
  },
  {
   "cell_type": "code",
   "execution_count": null,
   "metadata": {},
   "outputs": [],
   "source": [
    "def running_app(self):\n",
    "    print('                                                                 ')\n",
    "    print('Welcome to Zitae Library App!')\n",
    "    print('                                                                 ')\n",
    "    print('Menu:')\n",
    "    print('1. Adding book to library')\n",
    "    print('2. Remove book from library')\n",
    "    print('3. Display books catalogue')\n",
    "    print('4. Search book by author')\n",
    "    print('5. Exit')\n",
    "    print('                                                                  ')\n",
    "    pilihan = input('Pilihan: ')\n",
    "    if pilihan == '1':\n",
    "        isbn = int(input('Input ISBN numbers: '))\n",
    "        title = input('Input book title: ')\n",
    "        author = input('Input author of the book: ')\n",
    "        self.adding_book(isbn, title, author)\n",
    "        print(f'{title} by {author} with ISBN {isbn} successfully added')\n",
    "\n",
    "    elif pilihan == '2':\n",
    "        isbn = int(input('Input book ISBN: '))\n",
    "        self.remove_book(isbn)\n",
    "    \n",
    "    elif pilihan == '3':\n",
    "        self.display_book()\n",
    "    \n",
    "    elif pilihan == '4':\n",
    "        author = input('Author of the booko: ')\n",
    "        self.search_by_author()\n",
    "    \n",
    "    elif pilihan == '5':\n",
    "        print('Thank you and have a nice day')\n",
    "        break\n",
    "\n",
    "#Jalakan aplikasi\n",
    "if __name__ = '__main__':\n",
    "    app_perpus = libraries()\n",
    "    app_perpus.running_app()\n",
    "    \n",
    "\n",
    "\n",
    "\n",
    "\n",
    "\n"
   ]
  },
  {
   "cell_type": "code",
   "execution_count": 36,
   "metadata": {},
   "outputs": [],
   "source": [
    "perpustakaan = libraries()\n",
    "perpustakaan.adding_book(1111, '1984', 'George Orwell')\n",
    "perpustakaan.adding_book(1112, 'Animal Farm', 'George Orwell')"
   ]
  },
  {
   "cell_type": "code",
   "execution_count": 37,
   "metadata": {},
   "outputs": [
    {
     "name": "stdout",
     "output_type": "stream",
     "text": [
      "ISBN: 1111, Title: 1984\n",
      "ISBN: 1112, Title: Animal Farm\n"
     ]
    }
   ],
   "source": [
    "perpustakaan.search_by_author('George Orwell')"
   ]
  },
  {
   "cell_type": "code",
   "execution_count": 38,
   "metadata": {},
   "outputs": [
    {
     "name": "stdout",
     "output_type": "stream",
     "text": [
      "1. ISBN: 1111, 1984 by George Orwell\n",
      "2. ISBN: 1112, Animal Farm by George Orwell\n"
     ]
    }
   ],
   "source": [
    "perpustakaan.display_book()"
   ]
  },
  {
   "cell_type": "code",
   "execution_count": 39,
   "metadata": {},
   "outputs": [
    {
     "name": "stdout",
     "output_type": "stream",
     "text": [
      "Book wih ISBN: 1112 successfully been removed\n"
     ]
    }
   ],
   "source": [
    "perpustakaan.remove_book(1112)"
   ]
  },
  {
   "cell_type": "code",
   "execution_count": 40,
   "metadata": {},
   "outputs": [
    {
     "name": "stdout",
     "output_type": "stream",
     "text": [
      "1. ISBN: 1111, 1984 by George Orwell\n"
     ]
    }
   ],
   "source": [
    "perpustakaan.display_book()"
   ]
  },
  {
   "cell_type": "code",
   "execution_count": 56,
   "metadata": {},
   "outputs": [],
   "source": [
    "a = 1"
   ]
  },
  {
   "cell_type": "code",
   "execution_count": 57,
   "metadata": {},
   "outputs": [
    {
     "data": {
      "text/plain": [
       "'1'"
      ]
     },
     "execution_count": 57,
     "metadata": {},
     "output_type": "execute_result"
    }
   ],
   "source": [
    "str(a)"
   ]
  },
  {
   "cell_type": "code",
   "execution_count": null,
   "metadata": {},
   "outputs": [],
   "source": []
  }
 ],
 "metadata": {
  "kernelspec": {
   "display_name": "base",
   "language": "python",
   "name": "python3"
  },
  "language_info": {
   "codemirror_mode": {
    "name": "ipython",
    "version": 3
   },
   "file_extension": ".py",
   "mimetype": "text/x-python",
   "name": "python",
   "nbconvert_exporter": "python",
   "pygments_lexer": "ipython3",
   "version": "3.11.5"
  }
 },
 "nbformat": 4,
 "nbformat_minor": 2
}
