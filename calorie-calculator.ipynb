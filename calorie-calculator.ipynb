{
 "cells": [
  {
   "cell_type": "code",
   "execution_count": 62,
   "metadata": {},
   "outputs": [],
   "source": [
    "class calorie_caculator:\n",
    "    def __init__(self):\n",
    "        self.food_calorie = {\n",
    "            'rice': 200,\n",
    "            'chicken': 250,\n",
    "            'apple': 95,\n",
    "            'banana': 105,\n",
    "            'egg': 78\n",
    "        }\n",
    "        self.activity_burn_per_hour = {\n",
    "            'running': 600,\n",
    "            'walking': 250,\n",
    "            'cycling': 500,\n",
    "            'yoga': 200\n",
    "        }\n",
    "        self.list_food = {}\n",
    "        self.list_activity = {}\n",
    "\n",
    "\n",
    "    def log_food(self, *args, **kwargs):\n",
    "        for food in args:\n",
    "            for f, q in kwargs.items():\n",
    "                if food in self.food_calorie and food == f:\n",
    "                    quantity_count = q['quantity'] * self.food_calorie[food]\n",
    "                    self.list_food.update({food : quantity_count})\n",
    "        \n",
    "        total_food = sum(self.list_food.values())\n",
    "        print(f'Total calories from food = {total_food}')\n",
    "    \n",
    "    def log_activity(self, *args, **kwargs):\n",
    "        total_activity = 0\n",
    "        for activities in args:\n",
    "            for a, d in kwargs.items():\n",
    "                if activities in self.activity_burn_per_hour and activities == a:\n",
    "                    duration_count = (d['duration'] / 60) * self.activity_burn_per_hour[activities]\n",
    "                    self.list_activity.update({activities : duration_count})\n",
    "    \n",
    "    def cal_net_calories(self):\n",
    "        cal_net = sum(self.list_food.values()) - sum(self.list_activity.values())\n",
    "        \n",
    "        if cal_net > 0:\n",
    "            print(f'Surplus: {cal_net}')\n",
    "        elif cal_net < 0:\n",
    "            print(f'Deficit: {int(abs(cal_net))}')\n",
    "\n",
    "\n",
    "\n"
   ]
  },
  {
   "cell_type": "code",
   "execution_count": 63,
   "metadata": {},
   "outputs": [],
   "source": [
    "kalori = calorie_caculator()"
   ]
  },
  {
   "cell_type": "code",
   "execution_count": 64,
   "metadata": {},
   "outputs": [
    {
     "name": "stdout",
     "output_type": "stream",
     "text": [
      "Total calories from food = 450\n"
     ]
    }
   ],
   "source": [
    "kalori.log_food('rice', 'chicken', rice = {'quantity' : 1} , chicken = {'quantity' : 1})"
   ]
  },
  {
   "cell_type": "code",
   "execution_count": 65,
   "metadata": {},
   "outputs": [
    {
     "name": "stdout",
     "output_type": "stream",
     "text": [
      "Total calories from food = 528\n"
     ]
    }
   ],
   "source": [
    "kalori.log_food('egg', egg = {'quantity' : 1})\n"
   ]
  },
  {
   "cell_type": "code",
   "execution_count": 60,
   "metadata": {},
   "outputs": [],
   "source": [
    "kalori.log_activity('running', running = {'duration': 60})"
   ]
  },
  {
   "cell_type": "code",
   "execution_count": 61,
   "metadata": {},
   "outputs": [
    {
     "name": "stdout",
     "output_type": "stream",
     "text": [
      "Deficit: 72\n"
     ]
    }
   ],
   "source": [
    "kalori.cal_net_calories()"
   ]
  },
  {
   "cell_type": "code",
   "execution_count": 32,
   "metadata": {},
   "outputs": [
    {
     "data": {
      "text/plain": [
       "10"
      ]
     },
     "execution_count": 32,
     "metadata": {},
     "output_type": "execute_result"
    }
   ],
   "source": [
    "a  = [4, 5, 1]\n",
    "sum(a)"
   ]
  },
  {
   "cell_type": "code",
   "execution_count": null,
   "metadata": {},
   "outputs": [],
   "source": []
  }
 ],
 "metadata": {
  "kernelspec": {
   "display_name": "base",
   "language": "python",
   "name": "python3"
  },
  "language_info": {
   "codemirror_mode": {
    "name": "ipython",
    "version": 3
   },
   "file_extension": ".py",
   "mimetype": "text/x-python",
   "name": "python",
   "nbconvert_exporter": "python",
   "pygments_lexer": "ipython3",
   "version": "3.11.5"
  }
 },
 "nbformat": 4,
 "nbformat_minor": 2
}
