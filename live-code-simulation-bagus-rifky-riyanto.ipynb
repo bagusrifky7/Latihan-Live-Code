{
 "cells": [
  {
   "cell_type": "code",
   "execution_count": 1,
   "metadata": {},
   "outputs": [],
   "source": [
    "# List Kosong\n",
    "daftar_barang = []\n",
    "\n",
    "# Membuat function untuk input inventory\n",
    "def masukkan_data():\n",
    "    print('                                                                               ')\n",
    "    print('===============================================================================')\n",
    "    print('                                                                               ')\n",
    "    print('                            Menu Data inventory                                ')\n",
    "    print('                                                                               ')\n",
    "    print('===============================================================================')\n",
    "    print('                                                                               ')\n",
    "    print('                                                                               ')\n",
    "    input_barang = input('Masukkan nama barang: ')\n",
    "    print('Masukkan Nama Barang: ' + input_barang)\n",
    "    input_kategori = input('Masukkan kategori barang: ')\n",
    "    print('Masukkan kategori barang: ' + input_kategori)\n",
    "    input_harga = int(input('Masukkan harga: '))\n",
    "    print('Masukkan harga(rupiah): ' + str(input_harga))\n",
    "    daftar_barang.append([input_barang, input_kategori, input_harga])\n",
    "\n"
   ]
  },
  {
   "cell_type": "code",
   "execution_count": 2,
   "metadata": {},
   "outputs": [],
   "source": [
    "# Membuat function untuk input inventory\n",
    "def masukkan_data():\n",
    "    print('                                                                               ')\n",
    "    print('===============================================================================')\n",
    "    print('                                                                               ')\n",
    "    print('                            Menu Data inventory                                ')\n",
    "    print('                                                                               ')\n",
    "    print('===============================================================================')\n",
    "    print('                                                                               ')\n",
    "    print('                                                                               ')\n",
    "    input_barang = input('Masukkan nama barang: ')\n",
    "    print('Masukkan Nama Barang: ' + input_barang)\n",
    "    input_kategori = input('Masukkan kategori barang: ')\n",
    "    print('Masukkan kategori barang: ' + input_kategori)\n",
    "    input_harga = int(input('Masukkan harga: '))\n",
    "    print('Masukkan harga(rupiah): ' + str(input_harga))\n",
    "    daftar_barang.append([input_barang, input_kategori, input_harga])\n"
   ]
  },
  {
   "cell_type": "code",
   "execution_count": 3,
   "metadata": {},
   "outputs": [],
   "source": [
    "# Membuat function untuk tampilan inventory\n",
    "def data_inventory():\n",
    "    print('                                                                               ')\n",
    "    print('===============================================================================')\n",
    "    print('                                                                               ')\n",
    "    print('                              Data inventory                                   ')\n",
    "    print('                                                                               ')\n",
    "    print('===============================================================================')\n",
    "    print('                                                                               ')\n",
    "    print('                                                                               ')\n",
    "    print('|  Nama Barang  |' + ' Kategori Barang |' + ' Harga |'    )\n",
    "    for i in range(len(daftar_barang)):\n",
    "        print(f'   {daftar_barang[i][0]}          {daftar_barang[i][1]}          {daftar_barang[i][2]}') \n",
    "    "
   ]
  },
  {
   "cell_type": "code",
   "execution_count": 5,
   "metadata": {},
   "outputs": [
    {
     "name": "stdout",
     "output_type": "stream",
     "text": [
      "===============================================================================\n",
      "                                                                               \n",
      "                           Program Inventory Management                  \n",
      "                                                                               \n",
      "===============================================================================\n",
      "                                                                               \n",
      "                                                                               \n",
      "                                                                               \n",
      "Menu:\n",
      "1. Input Data\n",
      "2. Menanpilkan Data\n",
      "                                                                               \n",
      "                                                                               \n",
      "Pilih menu atau keluar: 2\n",
      "\n",
      "                                                                               \n",
      "===============================================================================\n",
      "                                                                               \n",
      "                              Data inventory                                   \n",
      "                                                                               \n",
      "===============================================================================\n",
      "                                                                               \n",
      "                                                                               \n",
      "|  Nama Barang  | Kategori Barang | Harga |\n",
      "   Rinso          Detergen          30000\n",
      "   Ultra Milk          Dairy          6000\n",
      "   Chitato's          Snack          11000\n",
      "Pilih menu atau keluar: exit\n",
      "\n"
     ]
    }
   ],
   "source": [
    "\n",
    "print('===============================================================================')\n",
    "print('                                                                               ')\n",
    "print('                           Program Inventory Management                  ')\n",
    "print('                                                                               ')\n",
    "print('===============================================================================')\n",
    "print('                                                                               ')\n",
    "print('                                                                               ')\n",
    "print('                                                                               ')\n",
    "print('Menu:')\n",
    "print('1. Input Data')\n",
    "print('2. Menanpilkan Data')\n",
    "print('                                                                               ')\n",
    "print('                                                                               ')\n",
    "\n",
    "\n",
    "while True:\n",
    "    menu  = input('Pilihan Menu: ')\n",
    "    print('Pilih menu atau keluar: ' + str(menu))\n",
    "    print('')\n",
    "\n",
    "    if menu == '1':\n",
    "        masukkan_data()\n",
    "        print('Terima Kasih, data sudah disimpan')\n",
    "    \n",
    "    elif menu == '2':\n",
    "        data_inventory()\n",
    "        \n",
    "    elif menu == 'exit':\n",
    "        break \n",
    "    else:\n",
    "        print('Ulang Lagi')"
   ]
  },
  {
   "cell_type": "code",
   "execution_count": null,
   "metadata": {},
   "outputs": [],
   "source": [
    "# Finish"
   ]
  },
  {
   "cell_type": "code",
   "execution_count": null,
   "metadata": {},
   "outputs": [],
   "source": [
    "\n"
   ]
  },
  {
   "cell_type": "code",
   "execution_count": null,
   "metadata": {},
   "outputs": [],
   "source": []
  },
  {
   "cell_type": "code",
   "execution_count": null,
   "metadata": {},
   "outputs": [],
   "source": []
  }
 ],
 "metadata": {
  "kernelspec": {
   "display_name": "base",
   "language": "python",
   "name": "python3"
  },
  "language_info": {
   "codemirror_mode": {
    "name": "ipython",
    "version": 3
   },
   "file_extension": ".py",
   "mimetype": "text/x-python",
   "name": "python",
   "nbconvert_exporter": "python",
   "pygments_lexer": "ipython3",
   "version": "3.11.5"
  }
 },
 "nbformat": 4,
 "nbformat_minor": 2
}
