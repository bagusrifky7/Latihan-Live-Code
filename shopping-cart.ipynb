{
 "cells": [
  {
   "cell_type": "code",
   "execution_count": null,
   "metadata": {},
   "outputs": [
    {
     "name": "stdout",
     "output_type": "stream",
     "text": [
      "Menu:\n",
      "1. Add item to your cart\n",
      "2. Remove item for your cart\n",
      "3. Display shopping cart\n",
      "4. Checkout\n",
      "5. Exit\n",
      "                                             \n",
      "Menu not available\n",
      "Menu:\n",
      "1. Add item to your cart\n",
      "2. Remove item for your cart\n",
      "3. Display shopping cart\n",
      "4. Checkout\n",
      "5. Exit\n",
      "                                             \n"
     ]
    }
   ],
   "source": [
    "class shopping_cart():\n",
    "\n",
    "    def __init__(self):\n",
    "        self.list_cart = {}\n",
    "\n",
    "    def add_items(self, **add_item):\n",
    "        for item,price in add_item.items():\n",
    "            self.list_cart.update({item : price})\n",
    "\n",
    "    def remove_items(self, *remove_item):\n",
    "        for item in remove_item:\n",
    "            if item in self.list_cart:\n",
    "                print(f'Removed: {item}')\n",
    "                del self.list_cart[item]\n",
    "    \n",
    "    def view_cart(self):\n",
    "        print(f'Items in cart:')\n",
    "        for item,price in self.list_cart.items():\n",
    "            print(f'- {item} : {price}')\n",
    "    \n",
    "    def checkout(self):\n",
    "        total = 0\n",
    "        for item, price in self.list_cart.items():\n",
    "            total += price\n",
    "        return f'Total: {total}'\n",
    "    \n",
    "    def running_app(self):\n",
    "        while True:\n",
    "            print('Menu:')\n",
    "            print('1. Add item to your cart')\n",
    "            print('2. Remove item for your cart')\n",
    "            print('3. Display shopping cart')\n",
    "            print('4. Checkout')\n",
    "            print('5. Exit')\n",
    "            print('                                             ')\n",
    "            \n",
    "            pilihan = input('Pilihan: ')\n",
    "            \n",
    "            try:\n",
    "\n",
    "                if pilihan == '1':\n",
    "                    things = input('Enter item you want to buy: ')\n",
    "                    price  = int(input('Enter price of the item: '))\n",
    "                    add_item = {things : price}\n",
    "                    self.add_items(**add_item)\n",
    "                    print(f'Item {things} succesfully added')\n",
    "                elif pilihan == '2':\n",
    "                    remove = input('Enter item you want to remove: ')\n",
    "                    remove_item = {remove}\n",
    "                    self.remove_items(*remove)\n",
    "                elif pilihan == '3':\n",
    "                    if not self.list_cart:\n",
    "                        print('There\\'s no items in the cart')\n",
    "                    else:\n",
    "                        self.view_cart()\n",
    "                elif pilihan == '4':\n",
    "                    if not self.list_cart:\n",
    "                        print('No items in the cart yet')\n",
    "                    else:\n",
    "                        self.checkout()\n",
    "                elif pilihan == '5':\n",
    "                    print('Thank you for using Walmart App')\n",
    "                    break\n",
    "                else:\n",
    "                    raise ValueError\n",
    "            \n",
    "            except ValueError:\n",
    "                print('Menu not available')\n",
    "\n",
    "if __name__ == '__main__':\n",
    "    walmart = shopping_cart()\n",
    "    walmart.running_app()\n",
    "\n",
    "                \n",
    "\n",
    "\n"
   ]
  },
  {
   "cell_type": "code",
   "execution_count": 30,
   "metadata": {},
   "outputs": [],
   "source": [
    "class shopping_cart():\n",
    "\n",
    "    def __init__(self):\n",
    "        self.list_cart = {}\n",
    "\n",
    "    def add_items(self, **add_item):\n",
    "        for item,price in add_item.items():\n",
    "            self.list_cart.update({item : price})\n",
    "\n",
    "    def remove_items(self, *remove_item):\n",
    "        for item in remove_item:\n",
    "            if item in self.list_cart:\n",
    "                print(f'Removed: {item}')\n",
    "                del self.list_cart[item]\n",
    "    \n",
    "    def view_cart(self):\n",
    "        print(f'Items in cart:')\n",
    "        for item,price in self.list_cart.items():\n",
    "            print(f'- {item} : {price}')\n",
    "    \n",
    "    def checkout(self):\n",
    "        total = 0\n",
    "        for item, price in self.list_cart.items():\n",
    "            total += price\n",
    "        return f'Total: {total}'"
   ]
  },
  {
   "cell_type": "code",
   "execution_count": 35,
   "metadata": {},
   "outputs": [],
   "source": [
    "shopping = shopping_cart()\n",
    "shopping.add_items(Apple = 10, Banana = 10)"
   ]
  },
  {
   "cell_type": "code",
   "execution_count": 36,
   "metadata": {},
   "outputs": [],
   "source": [
    "shopping.add_items(Cherry = 10)"
   ]
  },
  {
   "cell_type": "code",
   "execution_count": 40,
   "metadata": {},
   "outputs": [
    {
     "name": "stdout",
     "output_type": "stream",
     "text": [
      "Items in cart:\n",
      "- Banana : 10\n",
      "- Cherry : 10\n"
     ]
    }
   ],
   "source": [
    "shopping.view_cart()"
   ]
  },
  {
   "cell_type": "code",
   "execution_count": 38,
   "metadata": {},
   "outputs": [
    {
     "data": {
      "text/plain": [
       "'Total: 30'"
      ]
     },
     "execution_count": 38,
     "metadata": {},
     "output_type": "execute_result"
    }
   ],
   "source": [
    "shopping.checkout()"
   ]
  },
  {
   "cell_type": "code",
   "execution_count": 39,
   "metadata": {},
   "outputs": [
    {
     "name": "stdout",
     "output_type": "stream",
     "text": [
      "Removed: Apple\n"
     ]
    }
   ],
   "source": [
    "shopping.remove_items('Apple')"
   ]
  },
  {
   "cell_type": "code",
   "execution_count": null,
   "metadata": {},
   "outputs": [],
   "source": [
    "print('=========================================================')\n",
    "print('                                                         ')\n",
    "print('                  Walmart Shopping App                   ')\n",
    "print('                                                         ')\n",
    "print('=========================================================')\n",
    "print('                                                         ')\n",
    "print('                                                         ')\n",
    "\n"
   ]
  },
  {
   "cell_type": "code",
   "execution_count": null,
   "metadata": {},
   "outputs": [],
   "source": [
    "print('Menu:')\n",
    "print('1. Add item to your cart')\n",
    "print('3. Remove item for your cart')\n",
    "print('3. Display shopping cart')\n",
    "print('4. Checkout')\n",
    "print('5. Exit')\n",
    "print('                                             ')\n",
    "pilihan = input('Pilihan: ')\n",
    "if pilihan == '1':\n",
    "    things = input('Enter item you want to buy: ')\n",
    "    self.add_items(things)"
   ]
  },
  {
   "cell_type": "code",
   "execution_count": null,
   "metadata": {},
   "outputs": [
    {
     "name": "stdout",
     "output_type": "stream",
     "text": [
      "{'Apple': 20}\n"
     ]
    }
   ],
   "source": [
    "kwargs = {}\n",
    "\n",
    "def d(item, price):\n",
    "    kwargs[item] = price\n",
    "    print(kwargs)\n",
    "    \n",
    "d('Apple', 20)"
   ]
  },
  {
   "cell_type": "code",
   "execution_count": 27,
   "metadata": {},
   "outputs": [
    {
     "name": "stdout",
     "output_type": "stream",
     "text": [
      "{'Apple': 20, 'Banana': 30, 'Chersy': 20}\n"
     ]
    }
   ],
   "source": [
    "def d(**kwargs):\n",
    "    kwargs['Chersy'] = 20\n",
    "    print(kwargs)\n",
    "\n",
    "d(**kwargs)"
   ]
  },
  {
   "cell_type": "code",
   "execution_count": null,
   "metadata": {},
   "outputs": [],
   "source": [
    "kwargs = {}\n"
   ]
  },
  {
   "cell_type": "code",
   "execution_count": 24,
   "metadata": {},
   "outputs": [],
   "source": [
    "kwargs['Apple'] = 20\n",
    "kwargs['Banana'] = 30"
   ]
  },
  {
   "cell_type": "code",
   "execution_count": 25,
   "metadata": {},
   "outputs": [
    {
     "data": {
      "text/plain": [
       "{'Apple': 20, 'Banana': 30}"
      ]
     },
     "execution_count": 25,
     "metadata": {},
     "output_type": "execute_result"
    }
   ],
   "source": [
    "kwargs"
   ]
  },
  {
   "cell_type": "code",
   "execution_count": 1,
   "metadata": {},
   "outputs": [
    {
     "name": "stdout",
     "output_type": "stream",
     "text": [
      "dict_keys(['brand', 'model', 'year'])\n"
     ]
    }
   ],
   "source": [
    "car = {\n",
    "  \"brand\": \"Ford\",\n",
    "  \"model\": \"Mustang\",\n",
    "  \"year\": 1964\n",
    "}\n",
    "\n",
    "x = car.keys()\n",
    "\n",
    "print(x)"
   ]
  },
  {
   "cell_type": "code",
   "execution_count": 1,
   "metadata": {},
   "outputs": [
    {
     "name": "stdout",
     "output_type": "stream",
     "text": [
      "{'brand': {'cadillac': 1}}\n"
     ]
    }
   ],
   "source": [
    "car = {'brand' : {'cadillac' : 1}}\n",
    "print(car)"
   ]
  },
  {
   "cell_type": "code",
   "execution_count": 3,
   "metadata": {},
   "outputs": [
    {
     "data": {
      "text/plain": [
       "1"
      ]
     },
     "execution_count": 3,
     "metadata": {},
     "output_type": "execute_result"
    }
   ],
   "source": [
    "car['brand']['cadillac']"
   ]
  },
  {
   "cell_type": "code",
   "execution_count": null,
   "metadata": {},
   "outputs": [],
   "source": []
  },
  {
   "cell_type": "code",
   "execution_count": null,
   "metadata": {},
   "outputs": [],
   "source": []
  }
 ],
 "metadata": {
  "kernelspec": {
   "display_name": "base",
   "language": "python",
   "name": "python3"
  },
  "language_info": {
   "codemirror_mode": {
    "name": "ipython",
    "version": 3
   },
   "file_extension": ".py",
   "mimetype": "text/x-python",
   "name": "python",
   "nbconvert_exporter": "python",
   "pygments_lexer": "ipython3",
   "version": "3.11.5"
  }
 },
 "nbformat": 4,
 "nbformat_minor": 2
}
